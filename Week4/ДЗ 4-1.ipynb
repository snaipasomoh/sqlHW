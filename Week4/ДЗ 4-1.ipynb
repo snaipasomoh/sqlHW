{
 "cells": [
  {
   "cell_type": "markdown",
   "metadata": {},
   "source": [
    "Данное домашнее задание посвящено схеме базе данных, связанной с футбольным командами. Схема расположена в hw_diagram.jpg\n",
    "## Описание таблиц \n",
    "\n",
    "### Positions \n",
    "Позиции игроков\n",
    "id - уникальный идентификатор позиции \n",
    "Name - Название таблицы \n",
    "\n",
    "### Coaches \n",
    "Таблица тренеров \n",
    "id - уникальный идентификатор тренера\n",
    "Name - имя тренера \n",
    "\n",
    "## Teams \n",
    "Таблица команд \n",
    "id - уникальный идентификатор  команды \n",
    "Name - имя команды \n",
    "Location - расположение команды \n",
    "Coach_id - идентификатор тренера \n",
    "\n",
    "### Players \n",
    "Таблица игроков \n",
    "Id - уникальный идентификатор игрока \n",
    "Name - имя игрока \n",
    "Age - возраст игрока \n",
    "Position_id - идентификатор позиции \n",
    "Team_id - идентификатор команды \n",
    "Start_date - дата начала игры в команде \n",
    "\n",
    "### PlayersArchive \n",
    "Архив по игрокам (информация о том, в какой команде игрок играл ранее) \n",
    "player_id - идентификатор игрока \n",
    "team_id - идентификатор команды \n",
    "start_date - дата начала игры \n",
    "end_date - дата окончания игры"
   ]
  },
  {
   "cell_type": "markdown",
   "metadata": {},
   "source": [
    "# Задание 1\n",
    "Реализовать перенакатываемые sql-скрипты по схеме hw_diagram, приложенного ниже."
   ]
  },
  {
   "cell_type": "code",
   "execution_count": 1,
   "metadata": {},
   "outputs": [
    {
     "data": {
      "text/plain": [
       "'Connected: @HomeW.db'"
      ]
     },
     "execution_count": 1,
     "metadata": {},
     "output_type": "execute_result"
    }
   ],
   "source": [
    "%load_ext sql\n",
    "%sql sqlite:///HomeW.db"
   ]
  },
  {
   "cell_type": "code",
   "execution_count": 2,
   "metadata": {},
   "outputs": [
    {
     "name": "stdout",
     "output_type": "stream",
     "text": [
      " * sqlite:///HomeW.db\n",
      "Done.\n",
      "Done.\n",
      "Done.\n",
      "Done.\n",
      "Done.\n",
      "Done.\n",
      "Done.\n",
      "Done.\n",
      "Done.\n",
      "Done.\n",
      "Done.\n"
     ]
    },
    {
     "data": {
      "text/plain": [
       "[]"
      ]
     },
     "execution_count": 2,
     "metadata": {},
     "output_type": "execute_result"
    }
   ],
   "source": [
    "%%sql\n",
    "\n",
    "PRAGMA foreign_keys=ON;\n",
    "DROP TABLE IF EXISTS PlayersArchive;\n",
    "DROP TABLE IF EXISTS Players;\n",
    "DROP TABLE IF EXISTS Teams;\n",
    "DROP TABLE IF EXISTS Coaches;\n",
    "DROP TABLE IF EXISTS Positions;\n",
    "\n",
    "CREATE TABLE Positions(\n",
    "    ID INTEGER PRIMARY KEY,\n",
    "    Name VARCHAR(50)\n",
    ");\n",
    "\n",
    "CREATE TABLE Coaches(\n",
    "    ID INTEGER PRIMARY KEY,\n",
    "    Name VARCHAR(50)\n",
    ");\n",
    "\n",
    "CREATE TABLE Teams(\n",
    "    ID INTEGER PRIMARY KEY,\n",
    "    Name VARCHAR(50),\n",
    "    Location VARCHAR(50),\n",
    "    Coach_id INTEGER,\n",
    "    FOREIGN KEY (Coach_id) REFERENCES Coaches(ID)\n",
    ");\n",
    "\n",
    "CREATE TABLE Players(\n",
    "    ID INTEGER PRIMARY KEY,\n",
    "    Name VARCHAR(50),\n",
    "    Position_id INTEGER,\n",
    "    Age INTEGER,\n",
    "    Team_id INTEGER,\n",
    "    Start_date DATE,\n",
    "    FOREIGN KEY (Position_id) REFERENCES Positions(ID),\n",
    "    FOREIGN KEY (Team_id) REFERENCES Teams(ID)\n",
    ");\n",
    "\n",
    "CREATE TABLE PlayersArchive(\n",
    "    Player_id INTEGER,\n",
    "    Team_id INTEGER,\n",
    "    Start_date DATE,\n",
    "    End_date DATE,\n",
    "    PRIMARY KEY (Player_id, Team_id, Start_date),\n",
    "    FOREIGN KEY (Player_id) REFERENCES Players(ID),\n",
    "    FOREIGN KEY (Team_id) REFERENCES Teams(ID)\n",
    ");\n",
    "\n",
    "\n"
   ]
  },
  {
   "cell_type": "markdown",
   "metadata": {},
   "source": [
    "# Задание 2\n",
    "Написать sql-скрипт, осуществляюший добавление всех возможных позиций игроков. (В данной задаче можно ограничится четырьмя - вратарь, защитник, полузащитник, нападающий)"
   ]
  },
  {
   "cell_type": "code",
   "execution_count": 3,
   "metadata": {},
   "outputs": [
    {
     "name": "stdout",
     "output_type": "stream",
     "text": [
      " * sqlite:///HomeW.db\n",
      "4 rows affected.\n"
     ]
    },
    {
     "data": {
      "text/plain": [
       "[]"
      ]
     },
     "execution_count": 3,
     "metadata": {},
     "output_type": "execute_result"
    }
   ],
   "source": [
    "%%sql\n",
    "INSERT INTO Positions(Name) VALUES (\"Vratar\"), (\"ZaSHITnick\"), (\"PoluzaSHITnick\"), (\"Napadaushii\")"
   ]
  },
  {
   "cell_type": "markdown",
   "metadata": {},
   "source": [
    "# Задание 3\n",
    "Написать функцию, осуществляющую добавление тренера. На вход функции подается имя тренера. При невозможности вставки функция должна обработать данное исключение и вывести пользователю информацию о проблеме\n",
    "\n",
    "После написания функции необходимо добавить несколько тренеров для таблицы."
   ]
  },
  {
   "cell_type": "code",
   "execution_count": 4,
   "metadata": {},
   "outputs": [],
   "source": [
    "import sqlite3\n",
    "DB = sqlite3.connect(\"HomeW.db\")"
   ]
  },
  {
   "cell_type": "code",
   "execution_count": 5,
   "metadata": {},
   "outputs": [],
   "source": [
    "def addCoach (name):\n",
    "    CUR = DB.cursor()\n",
    "    try:\n",
    "        CUR.execute('''PRAGMA foreign_keys=ON''')\n",
    "        CUR.execute('''INSERT INTO Coaches(Name) VALUES(?)''', (name,))\n",
    "        DB.commit()\n",
    "    except Exception as e:\n",
    "        print(e)"
   ]
  },
  {
   "cell_type": "code",
   "execution_count": 6,
   "metadata": {},
   "outputs": [],
   "source": [
    "addCoach(\"coach1\")\n",
    "addCoach(\"coach2\")"
   ]
  },
  {
   "cell_type": "code",
   "execution_count": 7,
   "metadata": {},
   "outputs": [
    {
     "name": "stdout",
     "output_type": "stream",
     "text": [
      " * sqlite:///HomeW.db\n",
      "Done.\n"
     ]
    },
    {
     "data": {
      "text/html": [
       "<table>\n",
       "    <tr>\n",
       "        <th>ID</th>\n",
       "        <th>Name</th>\n",
       "    </tr>\n",
       "    <tr>\n",
       "        <td>1</td>\n",
       "        <td>coach1</td>\n",
       "    </tr>\n",
       "    <tr>\n",
       "        <td>2</td>\n",
       "        <td>coach2</td>\n",
       "    </tr>\n",
       "</table>"
      ],
      "text/plain": [
       "[(1, 'coach1'), (2, 'coach2')]"
      ]
     },
     "execution_count": 7,
     "metadata": {},
     "output_type": "execute_result"
    }
   ],
   "source": [
    "%%sql\n",
    "\n",
    "SELECT * FROM Coaches;"
   ]
  },
  {
   "cell_type": "markdown",
   "metadata": {},
   "source": [
    "# Задание 4\n",
    "\n",
    "Написать функцию, осуществляющую добавление команды. На вход функция принимает (имя команды, местоположение, имя тренера).\n",
    "На выходе должна быть добавлена команда.\n",
    "\n",
    "После написания функции необходимо добавить несколько команд"
   ]
  },
  {
   "cell_type": "code",
   "execution_count": 8,
   "metadata": {},
   "outputs": [],
   "source": [
    "def addTeam (name, loc, coach_name):\n",
    "    CUR = DB.cursor()\n",
    "    try:\n",
    "        CUR.execute('''PRAGMA foreign_keys=ON''')\n",
    "        CUR.execute('''SELECT ID FROM Coaches WHERE Name = ?''', (coach_name,))\n",
    "        CUR.execute('''INSERT INTO Teams(Name, Location, Coach_Id) VALUES(?, ?, ?)''', (name, loc, CUR.fetchone()[0]))\n",
    "        DB.commit()\n",
    "    except Exception as e:\n",
    "        print(e)"
   ]
  },
  {
   "cell_type": "code",
   "execution_count": 9,
   "metadata": {},
   "outputs": [],
   "source": [
    "addTeam(\"team1\", \"loc1\", \"coach1\")\n",
    "addTeam(\"team2\", \"loc2\", \"coach2\")"
   ]
  },
  {
   "cell_type": "code",
   "execution_count": 10,
   "metadata": {},
   "outputs": [
    {
     "name": "stdout",
     "output_type": "stream",
     "text": [
      " * sqlite:///HomeW.db\n",
      "Done.\n"
     ]
    },
    {
     "data": {
      "text/html": [
       "<table>\n",
       "    <tr>\n",
       "        <th>ID</th>\n",
       "        <th>Name</th>\n",
       "        <th>Location</th>\n",
       "        <th>Coach_id</th>\n",
       "    </tr>\n",
       "    <tr>\n",
       "        <td>1</td>\n",
       "        <td>team1</td>\n",
       "        <td>loc1</td>\n",
       "        <td>1</td>\n",
       "    </tr>\n",
       "    <tr>\n",
       "        <td>2</td>\n",
       "        <td>team2</td>\n",
       "        <td>loc2</td>\n",
       "        <td>2</td>\n",
       "    </tr>\n",
       "</table>"
      ],
      "text/plain": [
       "[(1, 'team1', 'loc1', 1), (2, 'team2', 'loc2', 2)]"
      ]
     },
     "execution_count": 10,
     "metadata": {},
     "output_type": "execute_result"
    }
   ],
   "source": [
    "%%sql\n",
    "SELECT * FROM Teams;"
   ]
  },
  {
   "cell_type": "markdown",
   "metadata": {},
   "source": [
    "# Задание 5\n",
    "\n",
    "Написать функцию, осуществляющую обновление информации о команде. У функции на входе должен быть один обязательный параметр - название команды и два необязательных параметра - имя тренера и местоположение. При этом хотя бы один из необязательных параметров должен быть заполнен. Функция должна обновлять значение переданных необязательных параметров.\n",
    "\n",
    "После написания функции вызовите данную функцию несколько раз"
   ]
  },
  {
   "cell_type": "code",
   "execution_count": 11,
   "metadata": {},
   "outputs": [],
   "source": [
    "def updateTeam (name, coach_name = None, loc = None):\n",
    "    CUR = DB.cursor() \n",
    "    try:\n",
    "        CUR.execute('''PRAGMA foreign_keys=ON''')\n",
    "        query = \"\"\n",
    "        if coach_name != None:\n",
    "            CUR.execute('''SELECT ID FROM Coaches WHERE Name = ?''', (coach_name,))\n",
    "            query += \"Coach_id = \" + str(CUR.fetchone()[0])\n",
    "            if loc != None:\n",
    "                query += \",\"\n",
    "            query += \"\\n\"\n",
    "        if loc != None:\n",
    "            query += \"Location = \" + str(loc) + \"\\n\"\n",
    "        query = \"UPDATE Teams SET \" + query + \"WHERE Name = '\" + str(name) + \"'\"\n",
    "        CUR.execute(query)\n",
    "        DB.commit()\n",
    "    except Exception as e:\n",
    "        print(e)"
   ]
  },
  {
   "cell_type": "code",
   "execution_count": 12,
   "metadata": {},
   "outputs": [],
   "source": [
    "updateTeam(\"team1\", \"Foo\")"
   ]
  },
  {
   "cell_type": "code",
   "execution_count": 12,
   "metadata": {},
   "outputs": [
    {
     "name": "stdout",
     "output_type": "stream",
     "text": [
      " * sqlite:///HomeW.db\n",
      "Done.\n"
     ]
    },
    {
     "data": {
      "text/html": [
       "<table>\n",
       "    <tr>\n",
       "        <th>ID</th>\n",
       "        <th>Name</th>\n",
       "        <th>Location</th>\n",
       "        <th>Coach_id</th>\n",
       "    </tr>\n",
       "    <tr>\n",
       "        <td>1</td>\n",
       "        <td>team1</td>\n",
       "        <td>loc1</td>\n",
       "        <td>1</td>\n",
       "    </tr>\n",
       "    <tr>\n",
       "        <td>2</td>\n",
       "        <td>team2</td>\n",
       "        <td>loc2</td>\n",
       "        <td>2</td>\n",
       "    </tr>\n",
       "</table>"
      ],
      "text/plain": [
       "[(1, 'team1', 'loc1', 1), (2, 'team2', 'loc2', 2)]"
      ]
     },
     "execution_count": 12,
     "metadata": {},
     "output_type": "execute_result"
    }
   ],
   "source": [
    "%%sql\n",
    "SELECT * FROM Teams;"
   ]
  },
  {
   "cell_type": "markdown",
   "metadata": {},
   "source": [
    "# Задание 6\n",
    "\n",
    "Написать функцию, осуществляющую добавление нового футболиста в таблицу игроков. На входе (имя, возраст, название позиции, название команды, дата перехода в команду(необязательный параметр)). Если дата перехода не указана, то нужно использовать текущую дату. Предусмотреть различные ошибки (такие как неверное имя позиции, неверное название команды, возраст < 10 и > 50 и т.п.)\n",
    "\n",
    "После написания функции необходимо добавить несколько игроков."
   ]
  },
  {
   "cell_type": "code",
   "execution_count": 13,
   "metadata": {},
   "outputs": [],
   "source": [
    "import datetime\n",
    "\n",
    "def checkPos (pos):\n",
    "    CUR = DB.cursor()\n",
    "    try:\n",
    "        CUR.execute('''SELECT ID FROM Positions WHERE Name = ?''', (pos,))\n",
    "        res = CUR.fetchone()[0]\n",
    "        if res:\n",
    "            return res\n",
    "    except Exception as e:\n",
    "        print(e)\n",
    "    return None\n",
    "            \n",
    "def checkTeam (name):\n",
    "    CUR = DB.cursor()\n",
    "    try:\n",
    "        CUR.execute('''SELECT ID FROM Teams WHERE Name = ?''', (name,))\n",
    "        res = CUR.fetchone()\n",
    "        if res:\n",
    "            return res[0]\n",
    "    except Exception as e:\n",
    "        print(e)\n",
    "    return None\n",
    "\n",
    "def checkAge (age):\n",
    "    if age >= 10 and age <= 50:\n",
    "        return True\n",
    "    return False\n",
    "\n",
    "def processDate (date):\n",
    "    if date == None:\n",
    "        return datetime.datetime.now()\n",
    "    try:\n",
    "        res = datetime.datetime.strptime(date, \"%Y-%m-%d %H:%M:%S\")\n",
    "    except:\n",
    "        print(res)\n",
    "        res = None\n",
    "    return res\n",
    "\n",
    "def checkPlayer (name):\n",
    "    CUR = DB.cursor()\n",
    "    try:\n",
    "        CUR.execute('''SELECT ID FROM Players WHERE Name = ?''', (name,))\n",
    "        res = CUR.fetchone()\n",
    "        if res:\n",
    "            return res[0]\n",
    "    except Exception as e:\n",
    "        print(e)\n",
    "    return None\n",
    "\n",
    "def addPlayer (name, age, pos, team_name, start_date = None):\n",
    "    CUR = DB.cursor()\n",
    "    CUR.execute('''PRAGMA foreign_keys=ON''')\n",
    "    pos_id = checkPos(pos)\n",
    "    if not pos_id:\n",
    "        print(\"Bad position!\")\n",
    "        return\n",
    "    team_id = checkTeam(team_name)\n",
    "    if not team_id:\n",
    "        print(\"Bad team!\")\n",
    "        return\n",
    "    if not checkAge(age):\n",
    "        print(\"Bad age!\")\n",
    "        return\n",
    "    date = processDate(start_date)\n",
    "    if not date:\n",
    "        print(\"Bad date format!\")\n",
    "        return\n",
    "    player_id = checkPlayer(name)\n",
    "    if not player_id:\n",
    "        CUR.execute('''INSERT INTO Players(Name, Position_id, Age, Team_id, Start_date) VALUES(?, ?, ?, ?, ?)''',\n",
    "                    (name, pos_id, age, team_id, date))\n",
    "    else:\n",
    "        old_team_id = CUR.execute('''SELECT Team_id FROM Players WHERE id = ?''', (player_id,)).fetchone()[0]\n",
    "        old_date = CUR.execute('''SELECT Start_date FROM Players WHERE id = ?''', (player_id,)).fetchone()[0]\n",
    "        CUR.execute(\"INSERT INTO PlayersArchive(Player_id, Team_id, Start_date, End_date) VALUES(?, ?, ?, ?)\",\n",
    "                    (player_id, old_team_id, old_date, date))\n",
    "        CUR.execute(\"UPDATE Players SET Position_id = ?, Age = ?, Team_id = ?, Start_date = ? WHERE ID = ?\",\n",
    "                    (pos_id, age, team_id, date, player_id))\n",
    "    DB.commit()\n",
    "    \n"
   ]
  },
  {
   "cell_type": "code",
   "execution_count": 14,
   "metadata": {},
   "outputs": [
    {
     "name": "stdout",
     "output_type": "stream",
     "text": [
      " * sqlite:///HomeW.db\n",
      "Done.\n"
     ]
    },
    {
     "data": {
      "text/html": [
       "<table>\n",
       "    <tr>\n",
       "        <th>ID</th>\n",
       "        <th>Name</th>\n",
       "        <th>Position_id</th>\n",
       "        <th>Age</th>\n",
       "        <th>Team_id</th>\n",
       "        <th>Start_date</th>\n",
       "    </tr>\n",
       "</table>"
      ],
      "text/plain": [
       "[]"
      ]
     },
     "execution_count": 14,
     "metadata": {},
     "output_type": "execute_result"
    }
   ],
   "source": [
    "%%sql\n",
    "SELECT * FROM Players;"
   ]
  },
  {
   "cell_type": "code",
   "execution_count": 15,
   "metadata": {},
   "outputs": [
    {
     "name": "stdout",
     "output_type": "stream",
     "text": [
      " * sqlite:///HomeW.db\n",
      "Done.\n"
     ]
    },
    {
     "data": {
      "text/html": [
       "<table>\n",
       "    <tr>\n",
       "        <th>Player_id</th>\n",
       "        <th>Team_id</th>\n",
       "        <th>Start_date</th>\n",
       "        <th>End_date</th>\n",
       "    </tr>\n",
       "</table>"
      ],
      "text/plain": [
       "[]"
      ]
     },
     "execution_count": 15,
     "metadata": {},
     "output_type": "execute_result"
    }
   ],
   "source": [
    "%%sql\n",
    "SELECT * FROM PlayersArchive;"
   ]
  },
  {
   "cell_type": "code",
   "execution_count": 16,
   "metadata": {},
   "outputs": [],
   "source": [
    "addPlayer(\"player1\", 20, \"Vratar\", \"team1\")\n",
    "addPlayer(\"player2\", 20, \"Vratar\", \"team2\")"
   ]
  },
  {
   "cell_type": "markdown",
   "metadata": {},
   "source": [
    "# Задание 7\n",
    "Написать функцию для перевода игрока в другую команду. Данная функция должна осуществить архивирование текущей записи в таблице игроков в таблицу players_archive с заполнение end_date - датой начала игры за новую команду - 1 день. А также осуществлять изменение поля в таблице Players. При возникновении ошибки должен осуществляться полный откат транзакции."
   ]
  },
  {
   "cell_type": "code",
   "execution_count": 17,
   "metadata": {},
   "outputs": [
    {
     "name": "stdout",
     "output_type": "stream",
     "text": [
      " * sqlite:///HomeW.db\n",
      "Done.\n"
     ]
    },
    {
     "data": {
      "text/html": [
       "<table>\n",
       "    <tr>\n",
       "        <th>ID</th>\n",
       "        <th>Name</th>\n",
       "        <th>Position_id</th>\n",
       "        <th>Age</th>\n",
       "        <th>Team_id</th>\n",
       "        <th>Start_date</th>\n",
       "    </tr>\n",
       "    <tr>\n",
       "        <td>1</td>\n",
       "        <td>player1</td>\n",
       "        <td>1</td>\n",
       "        <td>20</td>\n",
       "        <td>1</td>\n",
       "        <td>2019-03-30 14:58:25.626998</td>\n",
       "    </tr>\n",
       "    <tr>\n",
       "        <td>2</td>\n",
       "        <td>player2</td>\n",
       "        <td>1</td>\n",
       "        <td>20</td>\n",
       "        <td>2</td>\n",
       "        <td>2019-03-30 14:58:25.641547</td>\n",
       "    </tr>\n",
       "</table>"
      ],
      "text/plain": [
       "[(1, 'player1', 1, 20, 1, '2019-03-30 14:58:25.626998'),\n",
       " (2, 'player2', 1, 20, 2, '2019-03-30 14:58:25.641547')]"
      ]
     },
     "execution_count": 17,
     "metadata": {},
     "output_type": "execute_result"
    }
   ],
   "source": [
    "%%sql\n",
    "SELECT * FROM Players;"
   ]
  },
  {
   "cell_type": "code",
   "execution_count": 18,
   "metadata": {},
   "outputs": [
    {
     "name": "stdout",
     "output_type": "stream",
     "text": [
      " * sqlite:///HomeW.db\n",
      "Done.\n"
     ]
    },
    {
     "data": {
      "text/html": [
       "<table>\n",
       "    <tr>\n",
       "        <th>Player_id</th>\n",
       "        <th>Team_id</th>\n",
       "        <th>Start_date</th>\n",
       "        <th>End_date</th>\n",
       "    </tr>\n",
       "</table>"
      ],
      "text/plain": [
       "[]"
      ]
     },
     "execution_count": 18,
     "metadata": {},
     "output_type": "execute_result"
    }
   ],
   "source": [
    "%%sql\n",
    "SELECT * FROM PlayersArchive;"
   ]
  },
  {
   "cell_type": "code",
   "execution_count": 19,
   "metadata": {},
   "outputs": [],
   "source": [
    "addPlayer(\"player1\", 20, \"Vratar\", \"team2\")\n",
    "addPlayer(\"player2\", 20, \"Vratar\", \"team1\")"
   ]
  },
  {
   "cell_type": "code",
   "execution_count": 20,
   "metadata": {},
   "outputs": [
    {
     "name": "stdout",
     "output_type": "stream",
     "text": [
      " * sqlite:///HomeW.db\n",
      "Done.\n"
     ]
    },
    {
     "data": {
      "text/html": [
       "<table>\n",
       "    <tr>\n",
       "        <th>ID</th>\n",
       "        <th>Name</th>\n",
       "        <th>Position_id</th>\n",
       "        <th>Age</th>\n",
       "        <th>Team_id</th>\n",
       "        <th>Start_date</th>\n",
       "    </tr>\n",
       "    <tr>\n",
       "        <td>1</td>\n",
       "        <td>player1</td>\n",
       "        <td>1</td>\n",
       "        <td>20</td>\n",
       "        <td>2</td>\n",
       "        <td>2019-03-30 14:59:17.421336</td>\n",
       "    </tr>\n",
       "    <tr>\n",
       "        <td>2</td>\n",
       "        <td>player2</td>\n",
       "        <td>1</td>\n",
       "        <td>20</td>\n",
       "        <td>1</td>\n",
       "        <td>2019-03-30 14:59:17.431717</td>\n",
       "    </tr>\n",
       "</table>"
      ],
      "text/plain": [
       "[(1, 'player1', 1, 20, 2, '2019-03-30 14:59:17.421336'),\n",
       " (2, 'player2', 1, 20, 1, '2019-03-30 14:59:17.431717')]"
      ]
     },
     "execution_count": 20,
     "metadata": {},
     "output_type": "execute_result"
    }
   ],
   "source": [
    "%%sql\n",
    "SELECT * FROM Players;"
   ]
  },
  {
   "cell_type": "code",
   "execution_count": 21,
   "metadata": {},
   "outputs": [
    {
     "name": "stdout",
     "output_type": "stream",
     "text": [
      " * sqlite:///HomeW.db\n",
      "Done.\n"
     ]
    },
    {
     "data": {
      "text/html": [
       "<table>\n",
       "    <tr>\n",
       "        <th>Player_id</th>\n",
       "        <th>Team_id</th>\n",
       "        <th>Start_date</th>\n",
       "        <th>End_date</th>\n",
       "    </tr>\n",
       "    <tr>\n",
       "        <td>1</td>\n",
       "        <td>1</td>\n",
       "        <td>2019-03-30 14:58:25.626998</td>\n",
       "        <td>2019-03-30 14:59:17.421336</td>\n",
       "    </tr>\n",
       "    <tr>\n",
       "        <td>2</td>\n",
       "        <td>2</td>\n",
       "        <td>2019-03-30 14:58:25.641547</td>\n",
       "        <td>2019-03-30 14:59:17.431717</td>\n",
       "    </tr>\n",
       "</table>"
      ],
      "text/plain": [
       "[(1, 1, '2019-03-30 14:58:25.626998', '2019-03-30 14:59:17.421336'),\n",
       " (2, 2, '2019-03-30 14:58:25.641547', '2019-03-30 14:59:17.431717')]"
      ]
     },
     "execution_count": 21,
     "metadata": {},
     "output_type": "execute_result"
    }
   ],
   "source": [
    "%%sql\n",
    "SELECT * FROM PlayersArchive;"
   ]
  },
  {
   "cell_type": "code",
   "execution_count": 22,
   "metadata": {},
   "outputs": [],
   "source": [
    "addPlayer(\"player1\", 20, \"Vratar\", \"team1\")\n",
    "addPlayer(\"player2\", 20, \"Vratar\", \"team2\")"
   ]
  },
  {
   "cell_type": "code",
   "execution_count": 23,
   "metadata": {},
   "outputs": [
    {
     "name": "stdout",
     "output_type": "stream",
     "text": [
      " * sqlite:///HomeW.db\n",
      "Done.\n"
     ]
    },
    {
     "data": {
      "text/html": [
       "<table>\n",
       "    <tr>\n",
       "        <th>ID</th>\n",
       "        <th>Name</th>\n",
       "        <th>Position_id</th>\n",
       "        <th>Age</th>\n",
       "        <th>Team_id</th>\n",
       "        <th>Start_date</th>\n",
       "    </tr>\n",
       "    <tr>\n",
       "        <td>1</td>\n",
       "        <td>player1</td>\n",
       "        <td>1</td>\n",
       "        <td>20</td>\n",
       "        <td>1</td>\n",
       "        <td>2019-03-30 15:00:07.604076</td>\n",
       "    </tr>\n",
       "    <tr>\n",
       "        <td>2</td>\n",
       "        <td>player2</td>\n",
       "        <td>1</td>\n",
       "        <td>20</td>\n",
       "        <td>2</td>\n",
       "        <td>2019-03-30 15:00:07.665447</td>\n",
       "    </tr>\n",
       "</table>"
      ],
      "text/plain": [
       "[(1, 'player1', 1, 20, 1, '2019-03-30 15:00:07.604076'),\n",
       " (2, 'player2', 1, 20, 2, '2019-03-30 15:00:07.665447')]"
      ]
     },
     "execution_count": 23,
     "metadata": {},
     "output_type": "execute_result"
    }
   ],
   "source": [
    "%%sql\n",
    "SELECT * FROM Players;"
   ]
  },
  {
   "cell_type": "code",
   "execution_count": 24,
   "metadata": {},
   "outputs": [
    {
     "name": "stdout",
     "output_type": "stream",
     "text": [
      " * sqlite:///HomeW.db\n",
      "Done.\n"
     ]
    },
    {
     "data": {
      "text/html": [
       "<table>\n",
       "    <tr>\n",
       "        <th>Player_id</th>\n",
       "        <th>Team_id</th>\n",
       "        <th>Start_date</th>\n",
       "        <th>End_date</th>\n",
       "    </tr>\n",
       "    <tr>\n",
       "        <td>1</td>\n",
       "        <td>1</td>\n",
       "        <td>2019-03-30 14:58:25.626998</td>\n",
       "        <td>2019-03-30 14:59:17.421336</td>\n",
       "    </tr>\n",
       "    <tr>\n",
       "        <td>2</td>\n",
       "        <td>2</td>\n",
       "        <td>2019-03-30 14:58:25.641547</td>\n",
       "        <td>2019-03-30 14:59:17.431717</td>\n",
       "    </tr>\n",
       "    <tr>\n",
       "        <td>1</td>\n",
       "        <td>2</td>\n",
       "        <td>2019-03-30 14:59:17.421336</td>\n",
       "        <td>2019-03-30 15:00:07.604076</td>\n",
       "    </tr>\n",
       "    <tr>\n",
       "        <td>2</td>\n",
       "        <td>1</td>\n",
       "        <td>2019-03-30 14:59:17.431717</td>\n",
       "        <td>2019-03-30 15:00:07.665447</td>\n",
       "    </tr>\n",
       "</table>"
      ],
      "text/plain": [
       "[(1, 1, '2019-03-30 14:58:25.626998', '2019-03-30 14:59:17.421336'),\n",
       " (2, 2, '2019-03-30 14:58:25.641547', '2019-03-30 14:59:17.431717'),\n",
       " (1, 2, '2019-03-30 14:59:17.421336', '2019-03-30 15:00:07.604076'),\n",
       " (2, 1, '2019-03-30 14:59:17.431717', '2019-03-30 15:00:07.665447')]"
      ]
     },
     "execution_count": 24,
     "metadata": {},
     "output_type": "execute_result"
    }
   ],
   "source": [
    "%%sql\n",
    "SELECT * FROM PlayersArchive;"
   ]
  },
  {
   "cell_type": "code",
   "execution_count": 25,
   "metadata": {},
   "outputs": [],
   "source": [
    "addPlayer(\"player1\", 20, \"Vratar\", \"team2\")"
   ]
  },
  {
   "cell_type": "code",
   "execution_count": 26,
   "metadata": {},
   "outputs": [
    {
     "name": "stdout",
     "output_type": "stream",
     "text": [
      " * sqlite:///HomeW.db\n",
      "Done.\n"
     ]
    },
    {
     "data": {
      "text/html": [
       "<table>\n",
       "    <tr>\n",
       "        <th>Player_id</th>\n",
       "        <th>Team_id</th>\n",
       "        <th>Start_date</th>\n",
       "        <th>End_date</th>\n",
       "    </tr>\n",
       "    <tr>\n",
       "        <td>1</td>\n",
       "        <td>1</td>\n",
       "        <td>2019-03-30 14:58:25.626998</td>\n",
       "        <td>2019-03-30 14:59:17.421336</td>\n",
       "    </tr>\n",
       "    <tr>\n",
       "        <td>2</td>\n",
       "        <td>2</td>\n",
       "        <td>2019-03-30 14:58:25.641547</td>\n",
       "        <td>2019-03-30 14:59:17.431717</td>\n",
       "    </tr>\n",
       "    <tr>\n",
       "        <td>1</td>\n",
       "        <td>2</td>\n",
       "        <td>2019-03-30 14:59:17.421336</td>\n",
       "        <td>2019-03-30 15:00:07.604076</td>\n",
       "    </tr>\n",
       "    <tr>\n",
       "        <td>2</td>\n",
       "        <td>1</td>\n",
       "        <td>2019-03-30 14:59:17.431717</td>\n",
       "        <td>2019-03-30 15:00:07.665447</td>\n",
       "    </tr>\n",
       "    <tr>\n",
       "        <td>1</td>\n",
       "        <td>1</td>\n",
       "        <td>2019-03-30 15:00:07.604076</td>\n",
       "        <td>2019-03-30 15:01:34.562255</td>\n",
       "    </tr>\n",
       "</table>"
      ],
      "text/plain": [
       "[(1, 1, '2019-03-30 14:58:25.626998', '2019-03-30 14:59:17.421336'),\n",
       " (2, 2, '2019-03-30 14:58:25.641547', '2019-03-30 14:59:17.431717'),\n",
       " (1, 2, '2019-03-30 14:59:17.421336', '2019-03-30 15:00:07.604076'),\n",
       " (2, 1, '2019-03-30 14:59:17.431717', '2019-03-30 15:00:07.665447'),\n",
       " (1, 1, '2019-03-30 15:00:07.604076', '2019-03-30 15:01:34.562255')]"
      ]
     },
     "execution_count": 26,
     "metadata": {},
     "output_type": "execute_result"
    }
   ],
   "source": [
    "%%sql\n",
    "SELECT * FROM PlayersArchive;"
   ]
  },
  {
   "cell_type": "code",
   "execution_count": 27,
   "metadata": {},
   "outputs": [],
   "source": [
    "addPlayer(\"player1\", 20, \"Vratar\", \"team1\", \"2019-03-30 14:30:00\")"
   ]
  },
  {
   "cell_type": "code",
   "execution_count": 28,
   "metadata": {},
   "outputs": [
    {
     "name": "stdout",
     "output_type": "stream",
     "text": [
      " * sqlite:///HomeW.db\n",
      "Done.\n"
     ]
    },
    {
     "data": {
      "text/html": [
       "<table>\n",
       "    <tr>\n",
       "        <th>ID</th>\n",
       "        <th>Name</th>\n",
       "        <th>Position_id</th>\n",
       "        <th>Age</th>\n",
       "        <th>Team_id</th>\n",
       "        <th>Start_date</th>\n",
       "    </tr>\n",
       "    <tr>\n",
       "        <td>1</td>\n",
       "        <td>player1</td>\n",
       "        <td>1</td>\n",
       "        <td>20</td>\n",
       "        <td>1</td>\n",
       "        <td>2019-03-30 14:30:00</td>\n",
       "    </tr>\n",
       "    <tr>\n",
       "        <td>2</td>\n",
       "        <td>player2</td>\n",
       "        <td>1</td>\n",
       "        <td>20</td>\n",
       "        <td>2</td>\n",
       "        <td>2019-03-30 15:00:07.665447</td>\n",
       "    </tr>\n",
       "</table>"
      ],
      "text/plain": [
       "[(1, 'player1', 1, 20, 1, '2019-03-30 14:30:00'),\n",
       " (2, 'player2', 1, 20, 2, '2019-03-30 15:00:07.665447')]"
      ]
     },
     "execution_count": 28,
     "metadata": {},
     "output_type": "execute_result"
    }
   ],
   "source": [
    "%%sql\n",
    "SELECT * FROM Players;"
   ]
  },
  {
   "cell_type": "code",
   "execution_count": null,
   "metadata": {},
   "outputs": [],
   "source": []
  }
 ],
 "metadata": {
  "kernelspec": {
   "display_name": "Python 3",
   "language": "python",
   "name": "python3"
  },
  "language_info": {
   "codemirror_mode": {
    "name": "ipython",
    "version": 3
   },
   "file_extension": ".py",
   "mimetype": "text/x-python",
   "name": "python",
   "nbconvert_exporter": "python",
   "pygments_lexer": "ipython3",
   "version": "3.6.7"
  }
 },
 "nbformat": 4,
 "nbformat_minor": 2
}
